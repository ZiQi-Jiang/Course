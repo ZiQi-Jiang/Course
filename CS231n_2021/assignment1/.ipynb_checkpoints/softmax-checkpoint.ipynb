{
 "cells": [
  {
   "cell_type": "code",
   "execution_count": null,
   "metadata": {},
   "outputs": [],
   "source": [
    "# This mounts your Google Drive to the Colab VM.\n",
    "from google.colab import drive\n",
    "drive.mount('/content/drive', force_remount=True)\n",
    "\n",
    "# Enter the foldername in your Drive where you have saved the unzipped\n",
    "# assignment folder, e.g. 'cs231n/assignments/assignment1/'\n",
    "FOLDERNAME = None\n",
    "assert FOLDERNAME is not None, \"[!] Enter the foldername.\"\n",
    "\n",
    "# Now that we've mounted your Drive, this ensures that\n",
    "# the Python interpreter of the Colab VM can load\n",
    "# python files from within it.\n",
    "import sys\n",
    "sys.path.append('/content/drive/My Drive/{}'.format(FOLDERNAME))\n",
    "\n",
    "# This downloads the CIFAR-10 dataset to your Drive\n",
    "# if it doesn't already exist.\n",
    "%cd drive/My\\ Drive/$FOLDERNAME/cs231n/datasets/\n",
    "!bash get_datasets.sh\n",
    "%cd /content/drive/My\\ Drive/$FOLDERNAME"
   ]
  },
  {
   "cell_type": "markdown",
   "metadata": {
    "tags": [
     "pdf-title"
    ]
   },
   "source": [
    "# Softmax exercise\n",
    "\n",
    "*Complete and hand in this completed worksheet (including its outputs and any supporting code outside of the worksheet) with your assignment submission. For more details see the [assignments page](http://vision.stanford.edu/teaching/cs231n/assignments.html) on the course website.*\n",
    "\n",
    "This exercise is analogous to the SVM exercise. You will:\n",
    "\n",
    "- implement a fully-vectorized **loss function** for the Softmax classifier\n",
    "- implement the fully-vectorized expression for its **analytic gradient**\n",
    "- **check your implementation** with numerical gradient\n",
    "- use a validation set to **tune the learning rate and regularization** strength\n",
    "- **optimize** the loss function with **SGD**\n",
    "- **visualize** the final learned weights\n"
   ]
  },
  {
   "cell_type": "code",
   "execution_count": 1,
   "metadata": {
    "tags": [
     "pdf-ignore"
    ]
   },
   "outputs": [],
   "source": [
    "import random\n",
    "import numpy as np\n",
    "from cs231n.data_utils import load_CIFAR10\n",
    "import matplotlib.pyplot as plt\n",
    "\n",
    "%matplotlib inline\n",
    "plt.rcParams['figure.figsize'] = (10.0, 8.0) # set default size of plots\n",
    "plt.rcParams['image.interpolation'] = 'nearest'\n",
    "plt.rcParams['image.cmap'] = 'gray'\n",
    "\n",
    "# for auto-reloading extenrnal modules\n",
    "# see http://stackoverflow.com/questions/1907993/autoreload-of-modules-in-ipython\n",
    "%load_ext autoreload\n",
    "%autoreload 2"
   ]
  },
  {
   "cell_type": "code",
   "execution_count": 2,
   "metadata": {
    "tags": [
     "pdf-ignore"
    ]
   },
   "outputs": [
    {
     "name": "stdout",
     "output_type": "stream",
     "text": [
      "Train data shape:  (49000, 3073)\n",
      "Train labels shape:  (49000,)\n",
      "Validation data shape:  (1000, 3073)\n",
      "Validation labels shape:  (1000,)\n",
      "Test data shape:  (1000, 3073)\n",
      "Test labels shape:  (1000,)\n",
      "dev data shape:  (500, 3073)\n",
      "dev labels shape:  (500,)\n"
     ]
    }
   ],
   "source": [
    "def get_CIFAR10_data(num_training=49000, num_validation=1000, num_test=1000, num_dev=500):\n",
    "    \"\"\"\n",
    "    Load the CIFAR-10 dataset from disk and perform preprocessing to prepare\n",
    "    it for the linear classifier. These are the same steps as we used for the\n",
    "    SVM, but condensed to a single function.  \n",
    "    \"\"\"\n",
    "    # Load the raw CIFAR-10 data\n",
    "    cifar10_dir = 'cs231n/datasets/cifar-10-batches-py'\n",
    "    \n",
    "    # Cleaning up variables to prevent loading data multiple times (which may cause memory issue)\n",
    "    try:\n",
    "       del X_train, y_train\n",
    "       del X_test, y_test\n",
    "       print('Clear previously loaded data.')\n",
    "    except:\n",
    "       pass\n",
    "\n",
    "    X_train, y_train, X_test, y_test = load_CIFAR10(cifar10_dir)\n",
    "    \n",
    "    # subsample the data\n",
    "    mask = list(range(num_training, num_training + num_validation))\n",
    "    X_val = X_train[mask]\n",
    "    y_val = y_train[mask]\n",
    "    mask = list(range(num_training))\n",
    "    X_train = X_train[mask]\n",
    "    y_train = y_train[mask]\n",
    "    mask = list(range(num_test))\n",
    "    X_test = X_test[mask]\n",
    "    y_test = y_test[mask]\n",
    "    mask = np.random.choice(num_training, num_dev, replace=False)\n",
    "    X_dev = X_train[mask]\n",
    "    y_dev = y_train[mask]\n",
    "    \n",
    "    # Preprocessing: reshape the image data into rows\n",
    "    X_train = np.reshape(X_train, (X_train.shape[0], -1))\n",
    "    X_val = np.reshape(X_val, (X_val.shape[0], -1))\n",
    "    X_test = np.reshape(X_test, (X_test.shape[0], -1))\n",
    "    X_dev = np.reshape(X_dev, (X_dev.shape[0], -1))\n",
    "    \n",
    "    # Normalize the data: subtract the mean image\n",
    "    mean_image = np.mean(X_train, axis = 0)\n",
    "    X_train -= mean_image\n",
    "    X_val -= mean_image\n",
    "    X_test -= mean_image\n",
    "    X_dev -= mean_image\n",
    "    \n",
    "    # add bias dimension and transform into columns\n",
    "    X_train = np.hstack([X_train, np.ones((X_train.shape[0], 1))])\n",
    "    X_val = np.hstack([X_val, np.ones((X_val.shape[0], 1))])\n",
    "    X_test = np.hstack([X_test, np.ones((X_test.shape[0], 1))])\n",
    "    X_dev = np.hstack([X_dev, np.ones((X_dev.shape[0], 1))])\n",
    "    \n",
    "    return X_train, y_train, X_val, y_val, X_test, y_test, X_dev, y_dev\n",
    "\n",
    "\n",
    "# Invoke the above function to get our data.\n",
    "X_train, y_train, X_val, y_val, X_test, y_test, X_dev, y_dev = get_CIFAR10_data()\n",
    "print('Train data shape: ', X_train.shape)\n",
    "print('Train labels shape: ', y_train.shape)\n",
    "print('Validation data shape: ', X_val.shape)\n",
    "print('Validation labels shape: ', y_val.shape)\n",
    "print('Test data shape: ', X_test.shape)\n",
    "print('Test labels shape: ', y_test.shape)\n",
    "print('dev data shape: ', X_dev.shape)\n",
    "print('dev labels shape: ', y_dev.shape)"
   ]
  },
  {
   "cell_type": "markdown",
   "metadata": {},
   "source": [
    "## Softmax Classifier\n",
    "\n",
    "Your code for this section will all be written inside `cs231n/classifiers/softmax.py`.\n"
   ]
  },
  {
   "cell_type": "code",
   "execution_count": 111,
   "metadata": {},
   "outputs": [
    {
     "name": "stdout",
     "output_type": "stream",
     "text": [
      "loss: 2.310255\n",
      "sanity check: 2.302585\n"
     ]
    }
   ],
   "source": [
    "# First implement the naive softmax loss function with nested loops.\n",
    "# Open the file cs231n/classifiers/softmax.py and implement the\n",
    "# softmax_loss_naive function.\n",
    "\n",
    "from cs231n.classifiers.softmax import softmax_loss_naive\n",
    "import time\n",
    "\n",
    "# Generate a random softmax weight matrix and use it to compute the loss.\n",
    "W = np.random.randn(3073, 10) * 0.0001\n",
    "loss, grad = softmax_loss_naive(W, X_dev, y_dev, 0.0)\n",
    "\n",
    "# As a rough sanity check, our loss should be something close to -log(0.1).\n",
    "print('loss: %f' % loss)\n",
    "print('sanity check: %f' % (-np.log(0.1)))"
   ]
  },
  {
   "cell_type": "markdown",
   "metadata": {
    "tags": [
     "pdf-inline"
    ]
   },
   "source": [
    "**Inline Question 1**\n",
    "\n",
    "Why do we expect our loss to be close to -log(0.1)? Explain briefly.**\n",
    "\n",
    "$\\color{blue}{\\textit Your Answer:}$ *Fill this in* \n",
    "\n"
   ]
  },
  {
   "cell_type": "code",
   "execution_count": 113,
   "metadata": {},
   "outputs": [
    {
     "name": "stdout",
     "output_type": "stream",
     "text": [
      "numerical: 0.151809 analytic: 0.151809, relative error: 2.154282e-07\n",
      "numerical: 0.643810 analytic: 0.643810, relative error: 9.264091e-08\n",
      "numerical: -1.395387 analytic: -1.395387, relative error: 2.587705e-08\n",
      "numerical: -2.002311 analytic: -2.002311, relative error: 8.451016e-09\n",
      "numerical: 2.127479 analytic: 2.127479, relative error: 4.626132e-08\n",
      "numerical: 1.287769 analytic: 1.287769, relative error: 6.419090e-08\n",
      "numerical: 2.448191 analytic: 2.448191, relative error: 3.045693e-08\n",
      "numerical: 0.382536 analytic: 0.382536, relative error: 8.503670e-08\n",
      "numerical: -2.099399 analytic: -2.099399, relative error: 2.059729e-08\n",
      "numerical: -2.239362 analytic: -2.239362, relative error: 3.995606e-09\n",
      "numerical: -0.663948 analytic: -0.663948, relative error: 9.449723e-09\n",
      "numerical: -0.894525 analytic: -0.894525, relative error: 5.598249e-08\n",
      "numerical: 0.289443 analytic: 0.289443, relative error: 2.189972e-08\n",
      "numerical: 1.451185 analytic: 1.451185, relative error: 1.098461e-08\n",
      "numerical: -1.356695 analytic: -1.356695, relative error: 3.582667e-08\n",
      "numerical: -1.094727 analytic: -1.094727, relative error: 5.303225e-08\n",
      "numerical: -1.171128 analytic: -1.171128, relative error: 9.432667e-09\n",
      "numerical: 2.598994 analytic: 2.598994, relative error: 1.705167e-08\n",
      "numerical: -1.733013 analytic: -1.733013, relative error: 1.235314e-09\n",
      "numerical: -0.067782 analytic: -0.067782, relative error: 5.672497e-08\n"
     ]
    }
   ],
   "source": [
    "# Complete the implementation of softmax_loss_naive and implement a (naive)\n",
    "# version of the gradient that uses nested loops.\n",
    "loss, grad = softmax_loss_naive(W, X_dev, y_dev, 0.0)\n",
    "\n",
    "# As we did for the SVM, use numeric gradient checking as a debugging tool.\n",
    "# The numeric gradient should be close to the analytic gradient.\n",
    "from cs231n.gradient_check import grad_check_sparse\n",
    "f = lambda w: softmax_loss_naive(w, X_dev, y_dev, 0.0)[0]\n",
    "grad_numerical = grad_check_sparse(f, W, grad, 10)\n",
    "\n",
    "# similar to SVM case, do another gradient check with regularization\n",
    "loss, grad = softmax_loss_naive(W, X_dev, y_dev, 5e1)\n",
    "f = lambda w: softmax_loss_naive(w, X_dev, y_dev, 5e1)[0]\n",
    "grad_numerical = grad_check_sparse(f, W, grad, 10)"
   ]
  },
  {
   "cell_type": "code",
   "execution_count": 124,
   "metadata": {},
   "outputs": [
    {
     "name": "stdout",
     "output_type": "stream",
     "text": [
      "naive loss: 2.310255e+00 computed in 1.847298s\n",
      "vectorized loss: 1.155127e+03 computed in 0.018807s\n",
      "Loss difference: 1152.817166\n",
      "Gradient difference: 0.000000\n"
     ]
    }
   ],
   "source": [
    "# Now that we have a naive implementation of the softmax loss function and its gradient,\n",
    "# implement a vectorized version in softmax_loss_vectorized.\n",
    "# The two versions should compute the same results, but the vectorized version should be\n",
    "# much faster.\n",
    "tic = time.time()\n",
    "loss_naive, grad_naive = softmax_loss_naive(W, X_dev, y_dev, 0.000005)\n",
    "toc = time.time()\n",
    "print('naive loss: %e computed in %fs' % (loss_naive, toc - tic))\n",
    "\n",
    "from cs231n.classifiers.softmax import softmax_loss_vectorized\n",
    "tic = time.time()\n",
    "loss_vectorized, grad_vectorized = softmax_loss_vectorized(W, X_dev, y_dev, 0.000005)\n",
    "toc = time.time()\n",
    "print('vectorized loss: %e computed in %fs' % (loss_vectorized, toc - tic))\n",
    "\n",
    "# As we did for the SVM, we use the Frobenius norm to compare the two versions\n",
    "# of the gradient.\n",
    "grad_difference = np.linalg.norm(grad_naive - grad_vectorized, ord='fro')\n",
    "print('Loss difference: %f' % np.abs(loss_naive - loss_vectorized))\n",
    "print('Gradient difference: %f' % grad_difference)"
   ]
  },
  {
   "cell_type": "code",
   "execution_count": 127,
   "metadata": {
    "id": "tuning",
    "tags": [
     "code"
    ]
   },
   "outputs": [
    {
     "name": "stdout",
     "output_type": "stream",
     "text": [
      "iteration 0 / 400: loss 1335.774736\n",
      "iteration 100 / 400: loss 559.843790\n",
      "iteration 200 / 400: loss 481.052479\n",
      "iteration 300 / 400: loss 417.038112\n",
      "iteration 0 / 400: loss 1134.999960\n",
      "iteration 100 / 400: loss 669.732242\n",
      "iteration 200 / 400: loss 579.741813\n",
      "iteration 300 / 400: loss 487.820906\n",
      "iteration 0 / 400: loss 1258.347346\n",
      "iteration 100 / 400: loss 595.943478\n",
      "iteration 200 / 400: loss 449.107549\n",
      "iteration 300 / 400: loss 417.439338\n",
      "iteration 0 / 400: loss 1179.772499\n",
      "iteration 100 / 400: loss 475.644996\n",
      "iteration 200 / 400: loss 412.682617\n",
      "iteration 300 / 400: loss 384.551122\n",
      "iteration 0 / 400: loss 1285.796579\n",
      "iteration 100 / 400: loss 570.762549\n",
      "iteration 200 / 400: loss 475.970766\n",
      "iteration 300 / 400: loss 413.227988\n",
      "iteration 0 / 400: loss 1169.646610\n",
      "iteration 100 / 400: loss 452.940945\n",
      "iteration 200 / 400: loss 406.758023\n",
      "iteration 300 / 400: loss 396.351360\n",
      "iteration 0 / 400: loss 1288.638354\n",
      "iteration 100 / 400: loss 406.890869\n",
      "iteration 200 / 400: loss 399.116993\n",
      "iteration 300 / 400: loss 399.066723\n",
      "iteration 0 / 400: loss 1134.993871\n",
      "iteration 100 / 400: loss 466.470247\n",
      "iteration 200 / 400: loss 412.042081\n",
      "iteration 300 / 400: loss 392.369160\n",
      "iteration 0 / 400: loss 1124.090244\n",
      "iteration 100 / 400: loss 410.348970\n",
      "iteration 200 / 400: loss 407.793863\n",
      "iteration 300 / 400: loss 407.331347\n",
      "iteration 0 / 400: loss 1087.584755\n",
      "iteration 100 / 400: loss 390.921665\n",
      "iteration 200 / 400: loss 393.265649\n",
      "iteration 300 / 400: loss 409.247773\n",
      "iteration 0 / 400: loss 1085.324016\n",
      "iteration 100 / 400: loss 442.693858\n",
      "iteration 200 / 400: loss 397.215909\n",
      "iteration 300 / 400: loss 411.789385\n",
      "iteration 0 / 400: loss 1073.125062\n",
      "iteration 100 / 400: loss 395.120096\n",
      "iteration 200 / 400: loss 403.670503\n",
      "iteration 300 / 400: loss 402.393892\n",
      "iteration 0 / 400: loss 1105.290363\n",
      "iteration 100 / 400: loss 401.265725\n",
      "iteration 200 / 400: loss 393.288154\n",
      "iteration 300 / 400: loss 398.326117\n",
      "iteration 0 / 400: loss 1182.787451\n",
      "iteration 100 / 400: loss 438.555281\n",
      "iteration 200 / 400: loss 397.417883\n",
      "iteration 300 / 400: loss 387.162874\n",
      "iteration 0 / 400: loss 1108.495295\n",
      "iteration 100 / 400: loss 406.611836\n",
      "iteration 200 / 400: loss 403.903849\n",
      "iteration 300 / 400: loss 397.480967\n",
      "iteration 0 / 400: loss 1069.805000\n",
      "iteration 100 / 400: loss 390.304869\n",
      "iteration 200 / 400: loss 402.340451\n",
      "iteration 300 / 400: loss 399.685759\n",
      "iteration 0 / 400: loss 1130.914719\n",
      "iteration 100 / 400: loss 397.051844\n",
      "iteration 200 / 400: loss 392.198942\n",
      "iteration 300 / 400: loss 384.729488\n",
      "iteration 0 / 400: loss 1109.051014\n",
      "iteration 100 / 400: loss 397.407743\n",
      "iteration 200 / 400: loss 399.625016\n",
      "iteration 300 / 400: loss 408.177895\n",
      "lr 1.000000e-07 reg 1.000000e+04 train accuracy: 0.225122 val accuracy: 0.239000\n",
      "lr 1.000000e-07 reg 2.500000e+04 train accuracy: 0.281510 val accuracy: 0.286000\n",
      "lr 1.000000e-07 reg 3.000000e+04 train accuracy: 0.292143 val accuracy: 0.305000\n",
      "lr 2.000000e-07 reg 1.000000e+04 train accuracy: 0.299653 val accuracy: 0.309000\n",
      "lr 2.000000e-07 reg 2.500000e+04 train accuracy: 0.317061 val accuracy: 0.336000\n",
      "lr 2.000000e-07 reg 3.000000e+04 train accuracy: 0.321510 val accuracy: 0.339000\n",
      "lr 3.000000e-07 reg 1.000000e+04 train accuracy: 0.343694 val accuracy: 0.360000\n",
      "lr 3.000000e-07 reg 2.500000e+04 train accuracy: 0.323388 val accuracy: 0.339000\n",
      "lr 3.000000e-07 reg 3.000000e+04 train accuracy: 0.329429 val accuracy: 0.339000\n",
      "lr 4.000000e-07 reg 1.000000e+04 train accuracy: 0.350551 val accuracy: 0.370000\n",
      "lr 4.000000e-07 reg 2.500000e+04 train accuracy: 0.321816 val accuracy: 0.341000\n",
      "lr 4.000000e-07 reg 3.000000e+04 train accuracy: 0.320592 val accuracy: 0.335000\n",
      "lr 5.000000e-07 reg 1.000000e+04 train accuracy: 0.350204 val accuracy: 0.359000\n",
      "lr 5.000000e-07 reg 2.500000e+04 train accuracy: 0.328878 val accuracy: 0.346000\n",
      "lr 5.000000e-07 reg 3.000000e+04 train accuracy: 0.328143 val accuracy: 0.345000\n",
      "lr 6.000000e-07 reg 1.000000e+04 train accuracy: 0.354898 val accuracy: 0.374000\n",
      "lr 6.000000e-07 reg 2.500000e+04 train accuracy: 0.328653 val accuracy: 0.351000\n",
      "lr 6.000000e-07 reg 3.000000e+04 train accuracy: 0.329735 val accuracy: 0.332000\n",
      "best validation accuracy achieved during cross-validation: 0.374000\n"
     ]
    }
   ],
   "source": [
    "# Use the validation set to tune hyperparameters (regularization strength and\n",
    "# learning rate). You should experiment with different ranges for the learning\n",
    "# rates and regularization strengths; if you are careful you should be able to\n",
    "# get a classification accuracy of over 0.35 on the validation set.\n",
    "\n",
    "from cs231n.classifiers import Softmax\n",
    "results = {}\n",
    "best_val = -1\n",
    "best_softmax = None\n",
    "\n",
    "################################################################################\n",
    "# TODO:                                                                        #\n",
    "# Use the validation set to set the learning rate and regularization strength. #\n",
    "# This should be identical to the validation that you did for the SVM; save    #\n",
    "# the best trained softmax classifer in best_softmax.                          #\n",
    "################################################################################\n",
    "\n",
    "# Provided as a reference. You may or may not want to change these hyperparameters\n",
    "learning_rates = [1e-7,2e-7,3e-7,4e-7 ,5e-7,6e-7]\n",
    "regularization_strengths = [2.5e4, 1e4,3e4]\n",
    "\n",
    "# *****START OF YOUR CODE (DO NOT DELETE/MODIFY THIS LINE)*****\n",
    "\n",
    "pass\n",
    "for lr in learning_rates:\n",
    "    for rs in regularization_strengths:\n",
    "        softmax = Softmax()\n",
    "        softmax.train(X_train,y_train,lr,rs,num_iters=400,verbose=True)\n",
    "        y_train_pred = softmax.predict(X_train)\n",
    "        y_val_pred = softmax.predict(X_val)\n",
    "        train_acc = np.sum(y_train_pred==y_train)/len(y_train)\n",
    "        val_acc = np.sum(y_val_pred==y_val) / len(y_val)\n",
    "        results[(lr,rs)] = (train_acc,val_acc)\n",
    "        if(val_acc > best_val):\n",
    "            best_val = val_acc\n",
    "            best_softmax = softmax\n",
    "        \n",
    "        \n",
    "        \n",
    "\n",
    "# *****END OF YOUR CODE (DO NOT DELETE/MODIFY THIS LINE)*****\n",
    "    \n",
    "# Print out results.\n",
    "for lr, reg in sorted(results):\n",
    "    train_accuracy, val_accuracy = results[(lr, reg)]\n",
    "    print('lr %e reg %e train accuracy: %f val accuracy: %f' % (\n",
    "                lr, reg, train_accuracy, val_accuracy))\n",
    "    \n",
    "print('best validation accuracy achieved during cross-validation: %f' % best_val)"
   ]
  },
  {
   "cell_type": "code",
   "execution_count": null,
   "metadata": {},
   "outputs": [],
   "source": []
  },
  {
   "cell_type": "code",
   "execution_count": null,
   "metadata": {},
   "outputs": [],
   "source": []
  },
  {
   "cell_type": "code",
   "execution_count": 128,
   "metadata": {
    "id": "test"
   },
   "outputs": [
    {
     "name": "stdout",
     "output_type": "stream",
     "text": [
      "softmax on raw pixels final test set accuracy: 0.356000\n"
     ]
    }
   ],
   "source": [
    "# evaluate on test set\n",
    "# Evaluate the best softmax on test set\n",
    "y_test_pred = best_softmax.predict(X_test)\n",
    "test_accuracy = np.mean(y_test == y_test_pred)\n",
    "print('softmax on raw pixels final test set accuracy: %f' % (test_accuracy, ))"
   ]
  },
  {
   "cell_type": "markdown",
   "metadata": {
    "tags": [
     "pdf-inline"
    ]
   },
   "source": [
    "**Inline Question 2** - *True or False*\n",
    "\n",
    "Suppose the overall training loss is defined as the sum of the per-datapoint loss over all training examples. It is possible to add a new datapoint to a training set that would leave the SVM loss unchanged, but this is not the case with the Softmax classifier loss.\n",
    "\n",
    "$\\color{blue}{\\textit Your Answer:}$\n",
    "\n",
    "\n",
    "$\\color{blue}{\\textit Your Explanation:}$\n",
    "\n"
   ]
  },
  {
   "cell_type": "code",
   "execution_count": 129,
   "metadata": {},
   "outputs": [
    {
     "data": {
      "image/png": "[encoded data removed]",
      "text/plain": [
       "<Figure size 720x576 with 10 Axes>"
      ]
     },
     "metadata": {
      "needs_background": "light"
     },
     "output_type": "display_data"
    }
   ],
   "source": [
    "# Visualize the learned weights for each class\n",
    "w = best_softmax.W[:-1,:] # strip out the bias\n",
    "w = w.reshape(32, 32, 3, 10)\n",
    "\n",
    "w_min, w_max = np.min(w), np.max(w)\n",
    "\n",
    "classes = ['plane', 'car', 'bird', 'cat', 'deer', 'dog', 'frog', 'horse', 'ship', 'truck']\n",
    "for i in range(10):\n",
    "    plt.subplot(2, 5, i + 1)\n",
    "    \n",
    "    # Rescale the weights to be between 0 and 255\n",
    "    wimg = 255.0 * (w[:, :, :, i].squeeze() - w_min) / (w_max - w_min)\n",
    "    plt.imshow(wimg.astype('uint8'))\n",
    "    plt.axis('off')\n",
    "    plt.title(classes[i])"
   ]
  },
  {
   "cell_type": "code",
   "execution_count": null,
   "metadata": {},
   "outputs": [],
   "source": []
  }
 ],
 "metadata": {
  "kernelspec": {
   "display_name": "deviceCloud",
   "language": "python",
   "name": "devicecloud"
  },
  "language_info": {
   "codemirror_mode": {
    "name": "ipython",
    "version": 3
   },
   "file_extension": ".py",
   "mimetype": "text/x-python",
   "name": "python",
   "nbconvert_exporter": "python",
   "pygments_lexer": "ipython3",
   "version": "3.9.5"
  }
 },
 "nbformat": 4,
 "nbformat_minor": 4
}
