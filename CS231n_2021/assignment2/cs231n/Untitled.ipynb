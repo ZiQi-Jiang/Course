{
 "cells": [
  {
   "cell_type": "code",
   "execution_count": 1,
   "metadata": {},
   "outputs": [],
   "source": [
    "import numpy as np"
   ]
  },
  {
   "cell_type": "code",
   "execution_count": 2,
   "metadata": {},
   "outputs": [],
   "source": [
    "X = np.random.randn(3,4)"
   ]
  },
  {
   "cell_type": "code",
   "execution_count": 3,
   "metadata": {},
   "outputs": [
    {
     "data": {
      "text/plain": [
       "array([[ 1.04479004, -0.5534274 , -0.95251246,  0.08114134],\n",
       "       [-1.07739675, -1.42214084,  0.43253424, -0.75783252],\n",
       "       [ 1.03362835, -1.29394753, -0.46800459, -0.57483033]])"
      ]
     },
     "execution_count": 3,
     "metadata": {},
     "output_type": "execute_result"
    }
   ],
   "source": [
    "X"
   ]
  },
  {
   "cell_type": "code",
   "execution_count": 4,
   "metadata": {},
   "outputs": [],
   "source": [
    "a =np.array([[1,2],\n",
    "             [3,4]])"
   ]
  },
  {
   "cell_type": "code",
   "execution_count": 9,
   "metadata": {},
   "outputs": [],
   "source": [
    "X -=np.mean(X,axis=0)"
   ]
  },
  {
   "cell_type": "code",
   "execution_count": 12,
   "metadata": {},
   "outputs": [],
   "source": [
    "cov = X.T @ X /X.shape[0]"
   ]
  },
  {
   "cell_type": "code",
   "execution_count": 13,
   "metadata": {},
   "outputs": [
    {
     "data": {
      "text/plain": [
       "(4, 4)"
      ]
     },
     "execution_count": 13,
     "metadata": {},
     "output_type": "execute_result"
    }
   ],
   "source": [
    "cov.shape"
   ]
  },
  {
   "cell_type": "code",
   "execution_count": 15,
   "metadata": {},
   "outputs": [],
   "source": [
    "U,S,V = np.linalg.svd(cov)"
   ]
  },
  {
   "cell_type": "code",
   "execution_count": 17,
   "metadata": {},
   "outputs": [
    {
     "data": {
      "text/plain": [
       "array([1.44785405e+00, 1.53416309e-01, 3.27538399e-17, 3.04895025e-19])"
      ]
     },
     "execution_count": 17,
     "metadata": {},
     "output_type": "execute_result"
    }
   ],
   "source": [
    "S"
   ]
  },
  {
   "cell_type": "code",
   "execution_count": 19,
   "metadata": {},
   "outputs": [
    {
     "data": {
      "text/plain": [
       "array([[-0.81416447, -0.24036293,  0.47111556, -0.23960802],\n",
       "       [ 0.48340854, -0.6406071 ,  0.22821671, -0.55123122],\n",
       "       [ 0.24862357,  0.67830019,  0.61525726, -0.31552127],\n",
       "       [-0.20405566,  0.26787507, -0.58942833, -0.73428773]])"
      ]
     },
     "execution_count": 19,
     "metadata": {},
     "output_type": "execute_result"
    }
   ],
   "source": [
    "V"
   ]
  },
  {
   "cell_type": "code",
   "execution_count": 20,
   "metadata": {},
   "outputs": [
    {
     "data": {
      "text/plain": [
       "array([[-0.81416447,  0.48340854, -0.03913154,  0.31925086],\n",
       "       [-0.24036293, -0.6406071 , -0.67577141,  0.27419192],\n",
       "       [ 0.47111556,  0.22821671, -0.03855379,  0.85116442],\n",
       "       [-0.23960802, -0.55123122,  0.73506145,  0.31371453]])"
      ]
     },
     "execution_count": 20,
     "metadata": {},
     "output_type": "execute_result"
    }
   ],
   "source": [
    "U"
   ]
  },
  {
   "cell_type": "code",
   "execution_count": 3,
   "metadata": {},
   "outputs": [
    {
     "name": "stdout",
     "output_type": "stream",
     "text": [
      "Compiling im2col_cython.pyx because it changed.\n",
      "[1/1] Cythonizing im2col_cython.pyx\n",
      "/home/zhangshengyu/software/anaconda3/envs/deviceCloud/lib/python3.9/site-packages/Cython/Compiler/Main.py:369: FutureWarning: Cython directive 'language_level' not set, using 2 for now (Py2). This will change in a later release! File: /share/home/zhangshengyu/ziqijiang/CS231n/assignment2/cs231n/im2col_cython.pyx\n",
      "  tree = Parsing.p_module(s, pxd, full_module_name)\n",
      "running build_ext\n",
      "building 'im2col_cython' extension\n",
      "creating build\n",
      "creating build/temp.linux-x86_64-3.9\n",
      "gcc -pthread -B /home/zhangshengyu/software/anaconda3/envs/deviceCloud/compiler_compat -Wl,--sysroot=/ -Wno-unused-result -Wsign-compare -DNDEBUG -O2 -Wall -fPIC -O2 -isystem /home/zhangshengyu/software/anaconda3/envs/deviceCloud/include -fPIC -O2 -isystem /home/zhangshengyu/software/anaconda3/envs/deviceCloud/include -fPIC -I/home/zhangshengyu/software/anaconda3/envs/deviceCloud/lib/python3.9/site-packages/numpy/core/include -I/home/zhangshengyu/software/anaconda3/envs/deviceCloud/include/python3.9 -c im2col_cython.c -o build/temp.linux-x86_64-3.9/im2col_cython.o\n",
      "In file included from \u001b[01m\u001b[K/home/zhangshengyu/software/anaconda3/envs/deviceCloud/lib/python3.9/site-packages/numpy/core/include/numpy/ndarraytypes.h:1822:0\u001b[m\u001b[K,\n",
      "                 from \u001b[01m\u001b[K/home/zhangshengyu/software/anaconda3/envs/deviceCloud/lib/python3.9/site-packages/numpy/core/include/numpy/ndarrayobject.h:12\u001b[m\u001b[K,\n",
      "                 from \u001b[01m\u001b[K/home/zhangshengyu/software/anaconda3/envs/deviceCloud/lib/python3.9/site-packages/numpy/core/include/numpy/arrayobject.h:4\u001b[m\u001b[K,\n",
      "                 from \u001b[01m\u001b[Kim2col_cython.c:639\u001b[m\u001b[K:\n",
      "\u001b[01m\u001b[K/home/zhangshengyu/software/anaconda3/envs/deviceCloud/lib/python3.9/site-packages/numpy/core/include/numpy/npy_1_7_deprecated_api.h:17:2:\u001b[m\u001b[K \u001b[01;35m\u001b[Kwarning: \u001b[m\u001b[K#warning \"Using deprecated NumPy API, disable it with \" \"#define NPY_NO_DEPRECATED_API NPY_1_7_API_VERSION\" [-Wcpp]\n",
      " #warning \"Using deprecated NumPy API, disable it with \" \\\n",
      "\u001b[01;32m\u001b[K  ^\u001b[m\u001b[K\n",
      "gcc -pthread -B /home/zhangshengyu/software/anaconda3/envs/deviceCloud/compiler_compat -Wl,--sysroot=/ -shared -Wl,-rpath,/home/zhangshengyu/software/anaconda3/envs/deviceCloud/lib -Wl,-rpath-link,/home/zhangshengyu/software/anaconda3/envs/deviceCloud/lib -L/home/zhangshengyu/software/anaconda3/envs/deviceCloud/lib -Wl,-rpath,/home/zhangshengyu/software/anaconda3/envs/deviceCloud/lib -Wl,-rpath-link,/home/zhangshengyu/software/anaconda3/envs/deviceCloud/lib -L/home/zhangshengyu/software/anaconda3/envs/deviceCloud/lib build/temp.linux-x86_64-3.9/im2col_cython.o -o /share/home/zhangshengyu/ziqijiang/CS231n/assignment2/cs231n/im2col_cython.cpython-39-x86_64-linux-gnu.so\n"
     ]
    }
   ],
   "source": [
    "!python setup.py build_ext --inplace"
   ]
  },
  {
   "cell_type": "code",
   "execution_count": 2,
   "metadata": {},
   "outputs": [
    {
     "name": "stdout",
     "output_type": "stream",
     "text": [
      "[proxychains] config file found: /home/zhangshengyu/config/proxychains.conf\n",
      "[proxychains] preloading /home/zhangshengyu/software/proxychains4/lib/libproxychains4.so\n",
      "Looking in indexes: https://pypi.tuna.tsinghua.edu.cn/simple\n",
      "Collecting Cython\n",
      "  Downloading https://pypi.tuna.tsinghua.edu.cn/packages/22/0c/08f9ebde2caad767e023bee11b86f8c5269d2ce71afbdd42b0c554980555/Cython-0.29.24-cp39-cp39-manylinux1_x86_64.whl (1.9 MB)\n",
      "\u001b[K     |████████████████████████████████| 1.9 MB 6.2 MB/s eta 0:00:01\n",
      "\u001b[?25hInstalling collected packages: Cython\n",
      "Successfully installed Cython-0.29.24\n"
     ]
    }
   ],
   "source": [
    "!proxychains4 pip install Cython"
   ]
  },
  {
   "cell_type": "code",
   "execution_count": null,
   "metadata": {},
   "outputs": [],
   "source": []
  }
 ],
 "metadata": {
  "kernelspec": {
   "display_name": "deviceCloud",
   "language": "python",
   "name": "devicecloud"
  },
  "language_info": {
   "codemirror_mode": {
    "name": "ipython",
    "version": 3
   },
   "file_extension": ".py",
   "mimetype": "text/x-python",
   "name": "python",
   "nbconvert_exporter": "python",
   "pygments_lexer": "ipython3",
   "version": "3.9.5"
  }
 },
 "nbformat": 4,
 "nbformat_minor": 4
}
