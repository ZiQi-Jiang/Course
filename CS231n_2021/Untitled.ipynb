{
 "cells": [
  {
   "cell_type": "code",
   "execution_count": 55,
   "id": "6ed462bd",
   "metadata": {},
   "outputs": [
    {
     "name": "stdout",
     "output_type": "stream",
     "text": [
      "Archive:  assignment3_colab.zip\n",
      "  inflating: assignment3/gan-checks.npz  \n",
      "  inflating: assignment3/requirements.txt  \n",
      "   creating: assignment3/images/\n",
      "   creating: assignment3/cs231n/\n",
      "  inflating: assignment3/style-transfer-checks.npz  \n",
      "  inflating: assignment3/makepdf.py  \n",
      "  inflating: assignment3/simclr_sanity_check.key  \n",
      "  inflating: assignment3/collectSubmission.sh  \n",
      "  inflating: assignment3/images/kitten.jpg  \n",
      "  inflating: assignment3/images/simclr_fig2.png  \n",
      "  inflating: assignment3/images/gan_outputs_pytorch.png  \n",
      "   creating: assignment3/images/styles/\n",
      "  inflating: assignment3/images/sky.jpg  \n",
      "  inflating: assignment3/images/example_styletransfer.png  \n",
      "  inflating: assignment3/images/styles/the_scream.jpg  \n",
      "  inflating: assignment3/images/styles/composition_vii.jpg  \n",
      "  inflating: assignment3/images/styles/tubingen.jpg  \n",
      "  inflating: assignment3/images/styles/muse.jpg  \n",
      "  inflating: assignment3/images/styles/starry_night.jpg  \n",
      "   creating: assignment3/cs231n/simclr/\n",
      "  inflating: assignment3/cs231n/rnn_layers.py  \n",
      "  inflating: assignment3/cs231n/image_utils.py  \n",
      "  inflating: assignment3/cs231n/gan_pytorch.py  \n",
      "  inflating: assignment3/cs231n/gradient_check.py  \n",
      "  inflating: assignment3/cs231n/captioning_solver.py  \n",
      "   creating: assignment3/cs231n/datasets/\n",
      "  inflating: assignment3/cs231n/__init__.py  \n",
      "  inflating: assignment3/cs231n/net_visualization_pytorch.py  \n",
      "  inflating: assignment3/cs231n/captioning_solver_transformer.py  \n",
      "  inflating: assignment3/cs231n/data_utils.py  \n",
      "  inflating: assignment3/cs231n/coco_utils.py  \n",
      "  inflating: assignment3/cs231n/optim.py  \n",
      "   creating: assignment3/cs231n/classifiers/\n",
      "  inflating: assignment3/cs231n/transformer_layers.py  \n",
      "  inflating: assignment3/cs231n/simclr/model.py  \n",
      "  inflating: assignment3/cs231n/simclr/data_utils.py  \n",
      "  inflating: assignment3/cs231n/simclr/utils.py  \n",
      "  inflating: assignment3/cs231n/simclr/contrastive_loss.py  \n",
      "  inflating: assignment3/cs231n/datasets/get_imagenet_val.sh  \n",
      "  inflating: assignment3/cs231n/datasets/get_datasets.sh  \n",
      "  inflating: assignment3/cs231n/datasets/get_coco_captioning.sh  \n",
      "  inflating: assignment3/cs231n/classifiers/__init__.py  \n",
      "  inflating: assignment3/cs231n/classifiers/transformer.py  \n",
      "  inflating: assignment3/cs231n/classifiers/rnn.py  \n",
      "  inflating: assignment3/RNN_Captioning.ipynb  \n",
      "  inflating: assignment3/Generative_Adversarial_Networks.ipynb  \n",
      "  inflating: assignment3/Transformer_Captioning.ipynb  \n",
      "  inflating: assignment3/Network_Visualization.ipynb  \n",
      "  inflating: assignment3/Self_Supervised_Learning.ipynb  \n",
      "  inflating: assignment3/collect_submission.ipynb  \n",
      "  inflating: assignment3/LSTM_Captioning.ipynb  \n"
     ]
    }
   ],
   "source": [
    "!unzip assignment3_colab.zip"
   ]
  },
  {
   "cell_type": "code",
   "execution_count": 2,
   "id": "f6214017",
   "metadata": {},
   "outputs": [],
   "source": [
    "import numpy as np"
   ]
  },
  {
   "cell_type": "code",
   "execution_count": 3,
   "id": "b97d05e7",
   "metadata": {},
   "outputs": [
    {
     "name": "stdout",
     "output_type": "stream",
     "text": [
      "assignment1  assignment1_colab.zip  assignment2_colab.zip  Untitled.ipynb\r\n"
     ]
    }
   ],
   "source": [
    "!ls"
   ]
  },
  {
   "cell_type": "code",
   "execution_count": 6,
   "id": "1393450c",
   "metadata": {},
   "outputs": [],
   "source": [
    "!rm -rf assignment2/"
   ]
  },
  {
   "cell_type": "code",
   "execution_count": 2,
   "id": "064887e2",
   "metadata": {},
   "outputs": [
    {
     "data": {
      "text/plain": [
       "0.25"
      ]
     },
     "execution_count": 2,
     "metadata": {},
     "output_type": "execute_result"
    }
   ],
   "source": [
    "2**-2"
   ]
  },
  {
   "cell_type": "code",
   "execution_count": 15,
   "id": "e04ef060",
   "metadata": {},
   "outputs": [],
   "source": [
    "def foo(a):\n",
    "    print(id(a))\n",
    "    a['1'] = 1\n",
    "    a['2'] = 2"
   ]
  },
  {
   "cell_type": "code",
   "execution_count": 54,
   "id": "52b8422e",
   "metadata": {},
   "outputs": [],
   "source": [
    "!rm -rf assignment3/s"
   ]
  },
  {
   "cell_type": "code",
   "execution_count": 17,
   "id": "021f99ec",
   "metadata": {},
   "outputs": [
    {
     "name": "stdout",
     "output_type": "stream",
     "text": [
      "139633000738624\n"
     ]
    }
   ],
   "source": [
    "foo(b)"
   ]
  },
  {
   "cell_type": "code",
   "execution_count": 8,
   "id": "b7233b56",
   "metadata": {},
   "outputs": [],
   "source": [
    "foo(b)"
   ]
  },
  {
   "cell_type": "code",
   "execution_count": 18,
   "id": "2b7ebb1c",
   "metadata": {},
   "outputs": [
    {
     "name": "stdout",
     "output_type": "stream",
     "text": [
      "139633000738624\n"
     ]
    }
   ],
   "source": [
    "print(id(b))"
   ]
  },
  {
   "cell_type": "code",
   "execution_count": 20,
   "id": "ad50fe05",
   "metadata": {},
   "outputs": [],
   "source": [
    "a = np.array(range(5*2)).reshape(2,5)"
   ]
  },
  {
   "cell_type": "code",
   "execution_count": 19,
   "id": "01a9aefa",
   "metadata": {},
   "outputs": [],
   "source": [
    "import numpy as np"
   ]
  },
  {
   "cell_type": "code",
   "execution_count": 20,
   "id": "74d5188c",
   "metadata": {},
   "outputs": [
    {
     "data": {
      "text/plain": [
       "array([1.00000000e-04, 1.62377674e-04, 2.63665090e-04, 4.28133240e-04,\n",
       "       6.95192796e-04, 1.12883789e-03, 1.83298071e-03, 2.97635144e-03,\n",
       "       4.83293024e-03, 7.84759970e-03, 1.27427499e-02, 2.06913808e-02,\n",
       "       3.35981829e-02, 5.45559478e-02, 8.85866790e-02, 1.43844989e-01,\n",
       "       2.33572147e-01, 3.79269019e-01, 6.15848211e-01, 1.00000000e+00])"
      ]
     },
     "execution_count": 20,
     "metadata": {},
     "output_type": "execute_result"
    }
   ],
   "source": [
    "np.logspace(-4, 0, num=20)"
   ]
  },
  {
   "cell_type": "code",
   "execution_count": 21,
   "id": "87657fad",
   "metadata": {},
   "outputs": [],
   "source": [
    "np.random.rand?"
   ]
  },
  {
   "cell_type": "code",
   "execution_count": 22,
   "id": "41cabf47",
   "metadata": {},
   "outputs": [],
   "source": [
    "def rng_n():\n",
    "    np.random.seed(123)\n",
    "    for i in range(5):\n",
    "        print(np.random.rand(4))\n"
   ]
  },
  {
   "cell_type": "code",
   "execution_count": 23,
   "id": "d7c2595b",
   "metadata": {},
   "outputs": [
    {
     "name": "stdout",
     "output_type": "stream",
     "text": [
      "[0.69646919 0.28613933 0.22685145 0.55131477]\n",
      "[0.71946897 0.42310646 0.9807642  0.68482974]\n",
      "[0.4809319  0.39211752 0.34317802 0.72904971]\n",
      "[0.43857224 0.0596779  0.39804426 0.73799541]\n",
      "[0.18249173 0.17545176 0.53155137 0.53182759]\n"
     ]
    }
   ],
   "source": [
    "rng_n()"
   ]
  },
  {
   "cell_type": "code",
   "execution_count": 32,
   "id": "d45ba1d7",
   "metadata": {},
   "outputs": [
    {
     "data": {
      "text/plain": [
       "array([[[0., 0., 0.],\n",
       "        [0., 0., 0.]]])"
      ]
     },
     "execution_count": 32,
     "metadata": {},
     "output_type": "execute_result"
    }
   ],
   "source": [
    "np.zeros((1,2,3))"
   ]
  },
  {
   "cell_type": "code",
   "execution_count": 34,
   "id": "d2158f51",
   "metadata": {},
   "outputs": [],
   "source": [
    "a=np.array([1,2,3,4,5,6,7])"
   ]
  },
  {
   "cell_type": "code",
   "execution_count": 21,
   "id": "9acf1fb4",
   "metadata": {},
   "outputs": [
    {
     "data": {
      "text/plain": [
       "array([[0, 1, 2, 3, 4],\n",
       "       [5, 6, 7, 8, 9]])"
      ]
     },
     "execution_count": 21,
     "metadata": {},
     "output_type": "execute_result"
    }
   ],
   "source": [
    "a"
   ]
  },
  {
   "cell_type": "code",
   "execution_count": 22,
   "id": "0046a555",
   "metadata": {},
   "outputs": [
    {
     "data": {
      "text/plain": [
       "array([[0, 1],\n",
       "       [2, 3],\n",
       "       [4, 5],\n",
       "       [6, 7],\n",
       "       [8, 9]])"
      ]
     },
     "execution_count": 22,
     "metadata": {},
     "output_type": "execute_result"
    }
   ],
   "source": [
    "a.reshape(5,2)"
   ]
  },
  {
   "cell_type": "code",
   "execution_count": 53,
   "id": "918e0768",
   "metadata": {},
   "outputs": [],
   "source": [
    "a =np.array(range(2*3*4*5)).reshape((2,3,4,5))"
   ]
  },
  {
   "cell_type": "code",
   "execution_count": 30,
   "id": "a42ab6c1",
   "metadata": {},
   "outputs": [
    {
     "data": {
      "text/plain": [
       "array([[0, 1],\n",
       "       [2, 3],\n",
       "       [4, 5],\n",
       "       [6, 7],\n",
       "       [8, 9]])"
      ]
     },
     "execution_count": 30,
     "metadata": {},
     "output_type": "execute_result"
    }
   ],
   "source": [
    "a.reshape(5,2)"
   ]
  },
  {
   "cell_type": "code",
   "execution_count": 34,
   "id": "680ffe44",
   "metadata": {},
   "outputs": [],
   "source": [
    "x = np.array([[1,2],\n",
    "             [3,4]])"
   ]
  },
  {
   "cell_type": "code",
   "execution_count": 38,
   "id": "c5376ad6",
   "metadata": {},
   "outputs": [],
   "source": [
    "a = a.reshape(5,2)"
   ]
  },
  {
   "cell_type": "code",
   "execution_count": 44,
   "id": "421b2212",
   "metadata": {},
   "outputs": [
    {
     "data": {
      "text/plain": [
       "array([[2, 3],\n",
       "       [4, 5]])"
      ]
     },
     "execution_count": 44,
     "metadata": {},
     "output_type": "execute_result"
    }
   ],
   "source": [
    "a[[1,2]]"
   ]
  },
  {
   "cell_type": "code",
   "execution_count": 57,
   "id": "4993eecd",
   "metadata": {},
   "outputs": [],
   "source": [
    "class MyDataset(Dataset):\n",
    "    \n",
    "    def __init__(self):\n",
    "        txt_data = np.load"
   ]
  },
  {
   "cell_type": "code",
   "execution_count": 58,
   "id": "f9d8079f",
   "metadata": {},
   "outputs": [],
   "source": [
    "a = torch.randn(1,2)"
   ]
  },
  {
   "cell_type": "code",
   "execution_count": 59,
   "id": "3677bc09",
   "metadata": {},
   "outputs": [
    {
     "data": {
      "text/plain": [
       "tensor([[ 0.2374, -1.4312]])"
      ]
     },
     "execution_count": 59,
     "metadata": {},
     "output_type": "execute_result"
    }
   ],
   "source": [
    "a"
   ]
  },
  {
   "cell_type": "code",
   "execution_count": 60,
   "id": "04483e18",
   "metadata": {},
   "outputs": [],
   "source": [
    "b = torch.Tensor(range(4)).view(2,2)"
   ]
  },
  {
   "cell_type": "code",
   "execution_count": 61,
   "id": "b0a5fd18",
   "metadata": {},
   "outputs": [
    {
     "data": {
      "text/plain": [
       "tensor([[0., 1.],\n",
       "        [2., 3.]])"
      ]
     },
     "execution_count": 61,
     "metadata": {},
     "output_type": "execute_result"
    }
   ],
   "source": [
    "b"
   ]
  },
  {
   "cell_type": "code",
   "execution_count": 62,
   "id": "dbc130e6",
   "metadata": {},
   "outputs": [],
   "source": [
    "a = b"
   ]
  },
  {
   "cell_type": "code",
   "execution_count": 63,
   "id": "3b176f88",
   "metadata": {},
   "outputs": [
    {
     "data": {
      "text/plain": [
       "tensor([[0., 1.],\n",
       "        [2., 3.]])"
      ]
     },
     "execution_count": 63,
     "metadata": {},
     "output_type": "execute_result"
    }
   ],
   "source": [
    "a"
   ]
  },
  {
   "cell_type": "code",
   "execution_count": 68,
   "id": "4cf55db4",
   "metadata": {},
   "outputs": [
    {
     "data": {
      "text/plain": [
       "tensor([[ 2.,  3.],\n",
       "        [ 6., 11.]])"
      ]
     },
     "execution_count": 68,
     "metadata": {},
     "output_type": "execute_result"
    }
   ],
   "source": [
    "torch.matmul(a,b)"
   ]
  },
  {
   "cell_type": "code",
   "execution_count": 67,
   "id": "73f75025",
   "metadata": {},
   "outputs": [
    {
     "data": {
      "text/plain": [
       "tensor([[ 2.,  3.],\n",
       "        [ 6., 11.]])"
      ]
     },
     "execution_count": 67,
     "metadata": {},
     "output_type": "execute_result"
    }
   ],
   "source": [
    "a @ b "
   ]
  },
  {
   "cell_type": "code",
   "execution_count": 3,
   "id": "7fbc8eb6",
   "metadata": {},
   "outputs": [],
   "source": [
    "import torch\n",
    "a = torch.Tensor(range(6)).reshape(2,3)"
   ]
  },
  {
   "cell_type": "code",
   "execution_count": 4,
   "id": "930a5265",
   "metadata": {},
   "outputs": [
    {
     "data": {
      "text/plain": [
       "tensor([[0., 1., 2.],\n",
       "        [3., 4., 5.]])"
      ]
     },
     "execution_count": 4,
     "metadata": {},
     "output_type": "execute_result"
    }
   ],
   "source": [
    "a"
   ]
  },
  {
   "cell_type": "code",
   "execution_count": 5,
   "id": "96038263",
   "metadata": {},
   "outputs": [],
   "source": [
    "b = torch.Tensor([1,2,3])"
   ]
  },
  {
   "cell_type": "code",
   "execution_count": 6,
   "id": "de9aec8c",
   "metadata": {},
   "outputs": [
    {
     "data": {
      "text/plain": [
       "torch.Size([3])"
      ]
     },
     "execution_count": 6,
     "metadata": {},
     "output_type": "execute_result"
    }
   ],
   "source": [
    "b.shape"
   ]
  },
  {
   "cell_type": "code",
   "execution_count": 7,
   "id": "2c98815b",
   "metadata": {},
   "outputs": [],
   "source": [
    "import numpy as np"
   ]
  },
  {
   "cell_type": "code",
   "execution_count": 8,
   "id": "0d6de864",
   "metadata": {},
   "outputs": [],
   "source": [
    "a = np.array(range(6)).reshape(2,3)"
   ]
  },
  {
   "cell_type": "code",
   "execution_count": 9,
   "id": "5ba0c543",
   "metadata": {},
   "outputs": [
    {
     "data": {
      "text/plain": [
       "array([[0, 1, 2],\n",
       "       [3, 4, 5]])"
      ]
     },
     "execution_count": 9,
     "metadata": {},
     "output_type": "execute_result"
    }
   ],
   "source": [
    "a"
   ]
  },
  {
   "cell_type": "code",
   "execution_count": 10,
   "id": "b7417eb5",
   "metadata": {},
   "outputs": [],
   "source": [
    "b = np.array([1,2,3])"
   ]
  },
  {
   "cell_type": "code",
   "execution_count": 12,
   "id": "10521e4a",
   "metadata": {},
   "outputs": [
    {
     "data": {
      "text/plain": [
       "((2, 3), (3,))"
      ]
     },
     "execution_count": 12,
     "metadata": {},
     "output_type": "execute_result"
    }
   ],
   "source": [
    "a.shape,b.shape"
   ]
  },
  {
   "cell_type": "code",
   "execution_count": 13,
   "id": "4fc46440",
   "metadata": {},
   "outputs": [
    {
     "data": {
      "text/plain": [
       "array([[1, 3, 5],\n",
       "       [4, 6, 8]])"
      ]
     },
     "execution_count": 13,
     "metadata": {},
     "output_type": "execute_result"
    }
   ],
   "source": [
    "a + b"
   ]
  },
  {
   "cell_type": "code",
   "execution_count": 14,
   "id": "210cfe70",
   "metadata": {},
   "outputs": [
    {
     "data": {
      "text/plain": [
       "array([[0.        , 0.76159416, 0.96402758],\n",
       "       [0.99505475, 0.9993293 , 0.9999092 ]])"
      ]
     },
     "execution_count": 14,
     "metadata": {},
     "output_type": "execute_result"
    }
   ],
   "source": [
    "np.tanh(a)"
   ]
  },
  {
   "cell_type": "code",
   "execution_count": 17,
   "id": "5d110bf3",
   "metadata": {},
   "outputs": [
    {
     "data": {
      "text/plain": [
       "[3, 2, 1]"
      ]
     },
     "execution_count": 17,
     "metadata": {},
     "output_type": "execute_result"
    }
   ],
   "source": [
    "list(reversed([1,2,3]))"
   ]
  },
  {
   "cell_type": "code",
   "execution_count": 18,
   "id": "3427c677",
   "metadata": {},
   "outputs": [
    {
     "data": {
      "text/plain": [
       "[9, 8, 7, 6, 5, 4, 3, 2, 1, 0]"
      ]
     },
     "execution_count": 18,
     "metadata": {},
     "output_type": "execute_result"
    }
   ],
   "source": [
    "list(reversed(range(10)))"
   ]
  },
  {
   "cell_type": "code",
   "execution_count": 19,
   "id": "d8caac58",
   "metadata": {},
   "outputs": [
    {
     "data": {
      "text/plain": [
       "[9, 8, 7, 6, 5, 4, 3, 2, 1]"
      ]
     },
     "execution_count": 19,
     "metadata": {},
     "output_type": "execute_result"
    }
   ],
   "source": [
    "list(range(9,0,-1))"
   ]
  },
  {
   "cell_type": "code",
   "execution_count": 47,
   "id": "e0043413",
   "metadata": {},
   "outputs": [],
   "source": [
    "np.add.at?"
   ]
  },
  {
   "cell_type": "code",
   "execution_count": 48,
   "id": "9339c15d",
   "metadata": {},
   "outputs": [],
   "source": [
    "a = np.array([1,2,3,4,5,6])"
   ]
  },
  {
   "cell_type": "code",
   "execution_count": 51,
   "id": "b74e7ddb",
   "metadata": {},
   "outputs": [],
   "source": [
    "b = np.array([1,2,3,4,5,6])\n",
    "x = np.array([1,3,4])"
   ]
  },
  {
   "cell_type": "code",
   "execution_count": 52,
   "id": "0b9b005a",
   "metadata": {},
   "outputs": [],
   "source": [
    "np.add.at(a,x,b[x])"
   ]
  },
  {
   "cell_type": "code",
   "execution_count": 53,
   "id": "babd5e49",
   "metadata": {},
   "outputs": [
    {
     "data": {
      "text/plain": [
       "array([ 1,  4,  3,  8, 10,  6])"
      ]
     },
     "execution_count": 53,
     "metadata": {},
     "output_type": "execute_result"
    }
   ],
   "source": [
    "a"
   ]
  },
  {
   "cell_type": "code",
   "execution_count": null,
   "id": "4b837e64",
   "metadata": {},
   "outputs": [],
   "source": []
  }
 ],
 "metadata": {
  "kernelspec": {
   "display_name": "deviceCloud",
   "language": "python",
   "name": "devicecloud"
  },
  "language_info": {
   "codemirror_mode": {
    "name": "ipython",
    "version": 3
   },
   "file_extension": ".py",
   "mimetype": "text/x-python",
   "name": "python",
   "nbconvert_exporter": "python",
   "pygments_lexer": "ipython3",
   "version": "3.9.5"
  },
  "toc": {
   "base_numbering": 1,
   "nav_menu": {},
   "number_sections": true,
   "sideBar": true,
   "skip_h1_title": false,
   "title_cell": "Table of Contents",
   "title_sidebar": "Contents",
   "toc_cell": false,
   "toc_position": {},
   "toc_section_display": true,
   "toc_window_display": false
  }
 },
 "nbformat": 4,
 "nbformat_minor": 5
}
